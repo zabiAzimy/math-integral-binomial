{
 "cells": [
  {
   "cell_type": "markdown",
   "id": "29b11c35",
   "metadata": {},
   "source": [
    "#### Working with Math topics -- integrals"
   ]
  },
  {
   "cell_type": "code",
   "execution_count": 3,
   "id": "18053567",
   "metadata": {},
   "outputs": [],
   "source": [
    "# importing all the required libraries\n",
    "from sympy import *\n",
    "from sympy.plotting import plot\n",
    "import matplotlib.pyplot as plt\n",
    "from scipy.stats import binom\n",
    "\n",
    "# Declare 'x' to SymPy\n",
    "x = symbols('x')\n",
    "\n",
    "# Now just use Python syntax to declare function\n",
    "f = x**2 + 1\n",
    "\n",
    "# Calculate the integral of the function with respect to x\n",
    "# for the area between x = 0 and 1\n",
    "area = integrate(f, (x, 0, 1))\n",
    "\n",
    "# Excerpt From\n",
    "# Essential Math for Data Science\n",
    "# Thomas Nield\n",
    "# This material may be protected by copyright."
   ]
  },
  {
   "cell_type": "code",
   "execution_count": 18,
   "id": "c7ef79d6",
   "metadata": {},
   "outputs": [
    {
     "name": "stdout",
     "output_type": "stream",
     "text": [
      "    100 |\\                                                     /\n",
      "        | .                                                   . \n",
      "        |                                                       \n",
      "        |  .                                                 .  \n",
      "        |   \\                                               /   \n",
      "        |    .                                             .    \n",
      "        |                                                       \n",
      "        |     .                                           .     \n",
      "        |      \\                                         /      \n",
      "        |       \\                                       /       \n",
      "     50 |--------\\-------------------------------------/--------\n",
      "        |         \\                                   /         \n",
      "        |          \\                                 /          \n",
      "        |           \\                               /           \n",
      "        |            ..                           ..            \n",
      "        |              \\                         /              \n",
      "        |               ..                     ..               \n",
      "        |                 \\                   /                 \n",
      "        |                  ...             ...                  \n",
      "        |                     ...       ...                     \n",
      "      0 |_______________________________________________________\n",
      "         -10                        0                          10\n"
     ]
    },
    {
     "data": {
      "text/plain": [
       "<sympy.plotting.backends.textbackend.text.TextBackend at 0x107850970>"
      ]
     },
     "execution_count": 18,
     "metadata": {},
     "output_type": "execute_result"
    }
   ],
   "source": [
    "# let's also plot the above function\n",
    "plot(f)"
   ]
  },
  {
   "cell_type": "code",
   "execution_count": 5,
   "id": "452fa68a",
   "metadata": {},
   "outputs": [
    {
     "name": "stdout",
     "output_type": "stream",
     "text": [
      "4/3\n"
     ]
    }
   ],
   "source": [
    "print(area)"
   ]
  },
  {
   "cell_type": "code",
   "execution_count": 19,
   "id": "b688a85a",
   "metadata": {},
   "outputs": [
    {
     "name": "stdout",
     "output_type": "stream",
     "text": [
      "The area under the curve is:  10\n"
     ]
    }
   ],
   "source": [
    "# There is another function as f(x) = 3x^2 + 1\n",
    "# let's find the area under the curve for the values 0-2\n",
    "x = symbols('x')\n",
    "\n",
    "# declare the function using python syntax\n",
    "f = 3 * x**2 + 1\n",
    "\n",
    "# calculare the integral of the function with respect to x \n",
    "# for the area between x = 0 and 2\n",
    "area = integrate(f, (x, 0, 2))\n",
    "\n",
    "print(\"The area under the curve is: \", area)"
   ]
  },
  {
   "cell_type": "code",
   "execution_count": 25,
   "id": "2d151794",
   "metadata": {},
   "outputs": [
    {
     "name": "stdout",
     "output_type": "stream",
     "text": [
      "    300 |\\                                                     /\n",
      "        | .                                                   . \n",
      "        |                                                       \n",
      "        |  .                                                 .  \n",
      "        |   \\                                               /   \n",
      "        |    .                                             .    \n",
      "        |                                                       \n",
      "        |     .                                           .     \n",
      "        |      \\                                         /      \n",
      "        |       \\                                       /       \n",
      "    150 |--------\\-------------------------------------/--------\n",
      "        |         \\                                   /         \n",
      "        |          \\                                 /          \n",
      "        |           \\                               /           \n",
      "        |            \\                             /            \n",
      "        |             ..                         ..             \n",
      "        |               \\                       /               \n",
      "        |                ..                   ..                \n",
      "        |                  ..               ..                  \n",
      "        |                    ....       ....                    \n",
      "      0 |_______________________________________________________\n",
      "         -10                        0                          10\n"
     ]
    },
    {
     "data": {
      "text/plain": [
       "<sympy.plotting.backends.textbackend.text.TextBackend at 0x105297cd0>"
      ]
     },
     "execution_count": 25,
     "metadata": {},
     "output_type": "execute_result"
    }
   ],
   "source": [
    "x = symbols('x')\n",
    "plot(3 * x**2 + 1, line_color = \"red\")"
   ]
  },
  {
   "cell_type": "markdown",
   "id": "951a15c2",
   "metadata": {},
   "source": [
    "#### Binomial probability"
   ]
  },
  {
   "cell_type": "code",
   "execution_count": 13,
   "id": "a2a43f7d",
   "metadata": {},
   "outputs": [
    {
     "data": {
      "text/plain": [
       "[9.999999999999981e-11,\n",
       " 8.999999999999986e-09,\n",
       " 3.644999999999997e-07,\n",
       " 8.747999999999995e-06,\n",
       " 0.00013778099999999982,\n",
       " 0.0014880347999999988,\n",
       " 0.011160261000000001,\n",
       " 0.05739562799999998,\n",
       " 0.1937102445,\n",
       " 0.387420489,\n",
       " 0.3486784401000001]"
      ]
     },
     "execution_count": 13,
     "metadata": {},
     "output_type": "execute_result"
    }
   ],
   "source": [
    "# There will be 10 trials and the probability of success is 0.9\n",
    "n = 10\n",
    "p = 0.9\n",
    "\n",
    "# defining a list to store the probabilities\n",
    "probabilities = []\n",
    "\n",
    "for k in range(n+1):\n",
    "    probability = binom.pmf(k, n, p)\n",
    "    probabilities.append(probability)\n",
    "    \n",
    "\n",
    "# print the probabilities\n",
    "probabilities"
   ]
  },
  {
   "cell_type": "code",
   "execution_count": 17,
   "id": "de37dcdf",
   "metadata": {},
   "outputs": [
    {
     "data": {
      "image/png": "[encoded data removed]",
      "text/plain": [
       "<Figure size 640x480 with 1 Axes>"
      ]
     },
     "metadata": {},
     "output_type": "display_data"
    }
   ],
   "source": [
    "# we are ploting the barplots for the 10 outcomes\n",
    "# Create a list of indices for the x-axis\n",
    "indices = list(range(len(probabilities)))\n",
    "\n",
    "# Create a bar plot\n",
    "plt.bar(indices, probabilities, color='skyblue', edgecolor='blue', width=0.9)\n",
    "\n",
    "# Add a title\n",
    "plt.title(\"binomial distribution\")\n",
    "\n",
    "# Add x and y labels\n",
    "plt.xlabel(\"k outcomes (10 trials)\")\n",
    "plt.ylabel(\"Probability\")\n",
    "\n",
    "# Show the plot\n",
    "plt.show()"
   ]
  }
 ],
 "metadata": {
  "kernelspec": {
   "display_name": "Python 3 (ipykernel)",
   "language": "python",
   "name": "python3"
  },
  "language_info": {
   "codemirror_mode": {
    "name": "ipython",
    "version": 3
   },
   "file_extension": ".py",
   "mimetype": "text/x-python",
   "name": "python",
   "nbconvert_exporter": "python",
   "pygments_lexer": "ipython3",
   "version": "3.10.0"
  }
 },
 "nbformat": 4,
 "nbformat_minor": 5
}
